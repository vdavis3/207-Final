{
  "cells": [
    {
      "cell_type": "markdown",
      "metadata": {
        "id": "MKsRDH5ZUdfasdv"
      },
      "source": [
        "# Final Project\n",
        "\n",
        "### <span style=\"color:gray\"> Violet Davis and Annie Friar </span>"
      ]
    },
    {
      "cell_type": "markdown",
      "metadata": {
        "id": "I2MaDcrDeEVM"
      },
      "source": [
        "###\n",
        "`Data Exploration`"
      ]
    },
    {
      "cell_type": "markdown",
      "metadata": {
        "id": "UV6z1boBeEVM"
      },
      "source": [
        "---"
      ]
    },
    {
      "cell_type": "code",
      "execution_count": 1,
      "metadata": {
        "id": "7X58hOMTUH-w",
        "outputId": "731c648b-23e4-4ee6-c3a4-2a18daaa3c51",
        "colab": {
          "base_uri": "https://localhost:8080/"
        }
      },
      "outputs": [
        {
          "output_type": "stream",
          "name": "stdout",
          "text": [
            "Drive already mounted at /content/drive; to attempt to forcibly remount, call drive.mount(\"/content/drive\", force_remount=True).\n"
          ]
        }
      ],
      "source": [
        "# Import libraries\n",
        "\n",
        "# standard\n",
        "import pandas as pd\n",
        "import numpy as np\n",
        "import random\n",
        "import os\n",
        "\n",
        "# tf and keras\n",
        "import tensorflow as tf\n",
        "from tensorflow.keras.preprocessing.image import ImageDataGenerator, array_to_img, img_to_array, load_img\n",
        "from keras import models\n",
        "from keras import layers\n",
        "\n",
        "# plots and images\n",
        "import seaborn as sns\n",
        "import matplotlib.pyplot as plt\n",
        "from IPython.display import Image\n",
        "\n",
        "#silence TF\n",
        "os.environ['TF_CPP_MIN_LOG_LEVEL'] = '3'\n",
        "\n",
        "random.seed(2)\n",
        "%matplotlib inline\n",
        "\n",
        "# FILL IN CODE HERE #\n",
        "NORMAL_IMAGE_PATH = 'drive/MyDrive/207_final_project/Final_Project_Data/normal/' # Class as 1\n",
        "GLIOMA_IMAGE_PATH = 'drive/MyDrive/207_final_project/Final_Project_Data/glioma_tumor/' # Class as 2\n",
        "MENINGIOMA_IMAGE_PATH = 'drive/MyDrive/207_final_project/Final_Project_Data/meningioma_tumor/' # Class as 3\n",
        "PITUITARY_IMAGE_PATH = 'drive/MyDrive/207_final_project/Final_Project_Data/pituitary_tumor/' # Class as 4\n",
        "\n",
        "#import drive\n",
        "from google.colab import drive\n",
        "drive.mount('/content/drive')"
      ]
    },
    {
      "cell_type": "markdown",
      "metadata": {
        "id": "zL5O-SOu7kYN"
      },
      "source": [
        "## Dataset\n"
      ]
    },
    {
      "cell_type": "code",
      "source": [
        "# read image\n",
        "indx=0\n",
        "images = []\n",
        "labels = []\n",
        "\n",
        "labels_index = 0\n",
        "\n",
        "print('Sample of normal images in data:')\n",
        "for idx, img in enumerate(os.listdir(NORMAL_IMAGE_PATH)):\n",
        "    img = load_img(\n",
        "    NORMAL_IMAGE_PATH + img)\n",
        "    images.append(img)\n",
        "    labels.append((idx, 0))\n",
        "    labels_index = idx\n",
        "\n",
        "normal_index = labels_index + 1\n",
        "\n",
        "for idx, img in enumerate(os.listdir(GLIOMA_IMAGE_PATH)):\n",
        "    img = load_img(\n",
        "    GLIOMA_IMAGE_PATH + img)\n",
        "    images.append(img)\n",
        "    labels.append((idx+normal_index, 1))\n",
        "    labels_index = idx\n",
        "\n",
        "glioma_index = normal_index + labels_index + 1\n",
        "\n",
        "for idx, img in enumerate(os.listdir(MENINGIOMA_IMAGE_PATH)):\n",
        "    img = load_img(\n",
        "    MENINGIOMA_IMAGE_PATH + img)\n",
        "    images.append(img)\n",
        "    labels.append((idx+glioma_index, 2))\n",
        "    labels_index = idx\n",
        "\n",
        "meningioma_index = glioma_index + labels_index + 1\n",
        "\n",
        "for idx, img in enumerate(os.listdir(PITUITARY_IMAGE_PATH)):\n",
        "    img = load_img(\n",
        "    PITUITARY_IMAGE_PATH + img)\n",
        "    images.append(img)\n",
        "    labels.append((idx+meningioma_index, 3))"
      ],
      "metadata": {
        "id": "iySIMhnpIM0f",
        "colab": {
          "base_uri": "https://localhost:8080/"
        },
        "outputId": "d2ca3e59-75e7-4684-b583-a7d5008b5732"
      },
      "execution_count": 2,
      "outputs": [
        {
          "output_type": "stream",
          "name": "stdout",
          "text": [
            "Sample of normal images in data:\n"
          ]
        }
      ]
    },
    {
      "cell_type": "code",
      "execution_count": 3,
      "metadata": {
        "id": "xPhXkno_eEVQ"
      },
      "outputs": [],
      "source": [
        "labels = np.array(labels)"
      ]
    },
    {
      "cell_type": "code",
      "source": [
        "labels_df = pd.DataFrame(labels,\n",
        "                   columns=['img_num', 'Label'])"
      ],
      "metadata": {
        "id": "L0laa6xAMGAb"
      },
      "execution_count": 4,
      "outputs": []
    },
    {
      "cell_type": "code",
      "source": [
        "labels_df['Label'].value_counts()"
      ],
      "metadata": {
        "colab": {
          "base_uri": "https://localhost:8080/"
        },
        "id": "thDDMcpaMGvR",
        "outputId": "26730e47-4be1-4e24-95b7-f63e5ac779e9"
      },
      "execution_count": 5,
      "outputs": [
        {
          "output_type": "execute_result",
          "data": {
            "text/plain": [
              "2    923\n",
              "1    901\n",
              "3    844\n",
              "0    438\n",
              "Name: Label, dtype: int64"
            ]
          },
          "metadata": {},
          "execution_count": 5
        }
      ]
    },
    {
      "cell_type": "code",
      "source": [
        "# histogram\n",
        "sns.histplot(\n",
        "    data=labels_df,\n",
        "    stat=\"count\",\n",
        "    x = \"Label\"\n",
        ");"
      ],
      "metadata": {
        "colab": {
          "base_uri": "https://localhost:8080/",
          "height": 449
        },
        "id": "Vg88s5VXMI-S",
        "outputId": "17b580e1-1e46-4abb-c764-1822d0b86ea5"
      },
      "execution_count": 6,
      "outputs": [
        {
          "output_type": "display_data",
          "data": {
            "text/plain": [
              "<Figure size 640x480 with 1 Axes>"
            ],
            "image/png": "[encoded data removed]"
          },
          "metadata": {}
        }
      ]
    },
    {
      "cell_type": "markdown",
      "metadata": {
        "id": "151k1-M6eEVQ"
      },
      "source": [
        "## Split Images Datasets"
      ]
    },
    {
      "cell_type": "markdown",
      "metadata": {
        "id": "wdnH_gHXeEVQ"
      },
      "source": [
        "`Correct for data imbalance`"
      ]
    },
    {
      "cell_type": "code",
      "execution_count": 7,
      "metadata": {
        "id": "OF4Ge--6eEVR"
      },
      "outputs": [],
      "source": [
        "np.random.seed(1234)\n",
        "\n",
        "n_size = 200\n",
        "\n",
        "normal = labels_df[labels_df['Label'] == 0]\n",
        "glioma = labels_df[labels_df['Label'] == 1]\n",
        "meningioma = labels_df[labels_df['Label'] == 2]\n",
        "pituitary = labels_df[labels_df['Label'] == 3]\n",
        "\n",
        "# randomly draw 400 images from each classes\n",
        "temp_normal = list(np.random.choice(\n",
        "    normal.img_num,\n",
        "    size=n_size,\n",
        "    replace=False\n",
        "))\n",
        "\n",
        "temp_glioma = list(np.random.choice(\n",
        "    glioma.img_num,\n",
        "    size=n_size,\n",
        "    replace=False\n",
        "))\n",
        "\n",
        "temp_meningioma = list(np.random.choice(\n",
        "    meningioma.img_num,\n",
        "    size=n_size,\n",
        "    replace=False\n",
        "))\n",
        "\n",
        "\n",
        "temp_pituitary = list(np.random.choice(\n",
        "    pituitary.img_num,\n",
        "    size=n_size,\n",
        "    replace=False\n",
        "))"
      ]
    },
    {
      "cell_type": "code",
      "execution_count": 8,
      "metadata": {
        "id": "AMwRVcc3eEVR"
      },
      "outputs": [],
      "source": [
        "image_list = []\n",
        "labels_list = []\n",
        "\n",
        "for num in temp_normal:\n",
        "    image_list.append(images[num])\n",
        "    labels_list.append(labels[num])\n",
        "\n",
        "for num in temp_glioma:\n",
        "    image_list.append(images[num])\n",
        "    labels_list.append(labels[num])\n",
        "\n",
        "for num in temp_meningioma:\n",
        "    image_list.append(images[num])\n",
        "    labels_list.append(labels[num])\n",
        "\n",
        "for num in temp_pituitary:\n",
        "    image_list.append(images[num])\n",
        "    labels_list.append(labels[num])"
      ]
    },
    {
      "cell_type": "code",
      "execution_count": 9,
      "metadata": {
        "id": "oESkdEJZeEVR",
        "outputId": "00e80f29-d50c-4720-ff4d-15542b1dc92b",
        "colab": {
          "base_uri": "https://localhost:8080/"
        }
      },
      "outputs": [
        {
          "output_type": "stream",
          "name": "stdout",
          "text": [
            "Length of Image List:  800\n",
            "Length of Labels List:  800\n"
          ]
        }
      ],
      "source": [
        "print(\"Length of Image List: \", len(image_list))\n",
        "print(\"Length of Labels List: \", len(labels_list))"
      ]
    },
    {
      "cell_type": "code",
      "execution_count": 10,
      "metadata": {
        "id": "SoZn0IOBeEVR"
      },
      "outputs": [],
      "source": [
        "images_mini = []\n",
        "y_mini = []\n",
        "\n",
        "for img in image_list:\n",
        "\n",
        "# transform image to array\n",
        "    img = img_to_array(img)\n",
        "\n",
        "    # append to images\n",
        "    images_mini.append(img)\n",
        "\n",
        "images_mini = np.stack(images_mini)\n",
        "\n",
        "for label in labels_list:\n",
        "    y_mini.append(label[1])\n",
        "\n",
        "y_mini = np.array(y_mini)"
      ]
    },
    {
      "cell_type": "code",
      "execution_count": 11,
      "metadata": {
        "id": "o60OIqG5eEVR",
        "outputId": "3efff07c-29e3-44f5-aaa5-ae1671d15111",
        "colab": {
          "base_uri": "https://localhost:8080/"
        }
      },
      "outputs": [
        {
          "output_type": "execute_result",
          "data": {
            "text/plain": [
              "(800, 256, 256, 3)"
            ]
          },
          "metadata": {},
          "execution_count": 11
        }
      ],
      "source": [
        "images_mini.shape"
      ]
    },
    {
      "cell_type": "code",
      "source": [
        "y_mini.shape"
      ],
      "metadata": {
        "colab": {
          "base_uri": "https://localhost:8080/"
        },
        "id": "u8CHDLmRJiD1",
        "outputId": "ea86341f-d9f3-4178-8454-33e083a0fccc"
      },
      "execution_count": 12,
      "outputs": [
        {
          "output_type": "execute_result",
          "data": {
            "text/plain": [
              "(800,)"
            ]
          },
          "metadata": {},
          "execution_count": 12
        }
      ]
    },
    {
      "cell_type": "code",
      "execution_count": 13,
      "metadata": {
        "id": "KV6kbwcueEVR"
      },
      "outputs": [],
      "source": [
        "def preprocess_data_part2(images, y, split=(0.6,0.2,0.2)):\n",
        "    \"\"\" Split data into train, validation and test sets; apply transformaions and augmentations\n",
        "\n",
        "    Params:\n",
        "    -------\n",
        "    images  (np.ndarray): Images of shape (N, 224, 224, 3)\n",
        "    y (np.ndarray): Labels of shape (N,)\n",
        "    split (tuple): 3 values summing to 1 defining split of train, validation and test sets\n",
        "\n",
        "    Returns:\n",
        "    --------\n",
        "    X_train (np.ndarray): Train images of shape (N_train, 224, 224, 3)\n",
        "    y_train (np.ndarray): Train labels of shape (N_train,)\n",
        "    X_val (np.ndarray): Val images of shape (N_val, 224, 224, 3)\n",
        "    y_val (np.ndarray): Val labels of shape (N_val,)\n",
        "    X_test (np.ndarray): Test images of shape (N_test, 224, 224, 3)\n",
        "    y_test (np.ndarray): Test labels of shape (N_test,)\n",
        "\n",
        "    \"\"\"\n",
        "\n",
        "    ### create train/validation/test sets ###\n",
        "    #########################################\n",
        "    # NOTE: Each time you run this cell, you'll re-shuffle the data. The ordering will be the same due to the random seed generator\n",
        "    tf.random.set_seed(1234)\n",
        "    np.random.seed(1234)\n",
        "\n",
        "    shuffle = np.random.permutation(np.arange(len(images)))\n",
        "    images, y = images[shuffle], y[shuffle]\n",
        "\n",
        "    splits = np.multiply(len(images_mini), split).astype(int)\n",
        "    X_train, X_val, X_test = np.split(images, [splits[0], splits[0]+splits[1]])\n",
        "    y_train, y_val, y_test = np.split(y, [splits[0], splits[0]+splits[1]])\n",
        "\n",
        "    # rescale image to [0,1], i.e., greyscale\n",
        "    X_train = tf.image.rgb_to_grayscale(X_train)/255.0\n",
        "    X_val = tf.image.rgb_to_grayscale(X_val)/255.0\n",
        "    X_test = tf.image.rgb_to_grayscale(X_test)/255.0\n",
        "\n",
        "    return X_train, y_train, X_val, y_val, X_test, y_test"
      ]
    },
    {
      "cell_type": "code",
      "execution_count": 14,
      "metadata": {
        "id": "JalLYyQTeEVR",
        "outputId": "362cd99e-ce04-48a9-b0af-0f07c70edf75",
        "colab": {
          "base_uri": "https://localhost:8080/"
        }
      },
      "outputs": [
        {
          "output_type": "stream",
          "name": "stdout",
          "text": [
            "X_train shape (480, 256, 256, 1)\n",
            "y_train shape (480,)\n",
            "X_val shape (160, 256, 256, 1)\n",
            "y_val shape (160,)\n",
            "X_test shape (160, 256, 256, 1)\n",
            "y_test shape (160,)\n"
          ]
        }
      ],
      "source": [
        "X_train, y_train, X_val, y_val, X_test, y_test = preprocess_data_part2(\n",
        "    images_mini,\n",
        "    y_mini,\n",
        "    split=(0.6,0.2,0.2)\n",
        ")\n",
        "\n",
        "print(f\"X_train shape {X_train.shape}\")\n",
        "print(f\"y_train shape {y_train.shape}\")\n",
        "print(f\"X_val shape {X_val.shape}\")\n",
        "print(f\"y_val shape {y_val.shape}\")\n",
        "print(f\"X_test shape {X_test.shape}\")\n",
        "print(f\"y_test shape {y_test.shape}\")"
      ]
    },
    {
      "cell_type": "code",
      "execution_count": 15,
      "metadata": {
        "id": "FA_tUBj0eEVR"
      },
      "outputs": [],
      "source": [
        "validate_split = pd.DataFrame(y_train)"
      ]
    },
    {
      "cell_type": "code",
      "execution_count": 16,
      "metadata": {
        "id": "dKqdgZ08eEVR",
        "outputId": "ec0e3933-13fa-4cee-ac86-ce463270ab1f",
        "colab": {
          "base_uri": "https://localhost:8080/"
        }
      },
      "outputs": [
        {
          "output_type": "execute_result",
          "data": {
            "text/plain": [
              "0    125\n",
              "1    123\n",
              "2    116\n",
              "3    116\n",
              "dtype: int64"
            ]
          },
          "metadata": {},
          "execution_count": 16
        }
      ],
      "source": [
        "validate_split.value_counts()"
      ]
    },
    {
      "cell_type": "code",
      "source": [
        "y_train.shape"
      ],
      "metadata": {
        "colab": {
          "base_uri": "https://localhost:8080/"
        },
        "id": "B794W73bNGiT",
        "outputId": "8495aec0-f760-4b9d-8bc3-58a24552f96d"
      },
      "execution_count": 17,
      "outputs": [
        {
          "output_type": "execute_result",
          "data": {
            "text/plain": [
              "(480,)"
            ]
          },
          "metadata": {},
          "execution_count": 17
        }
      ]
    },
    {
      "cell_type": "code",
      "source": [
        "type(y_train)"
      ],
      "metadata": {
        "colab": {
          "base_uri": "https://localhost:8080/"
        },
        "id": "fuvQFPFZT0XB",
        "outputId": "792c5c56-18eb-4888-d598-76e36d009652"
      },
      "execution_count": 18,
      "outputs": [
        {
          "output_type": "execute_result",
          "data": {
            "text/plain": [
              "numpy.ndarray"
            ]
          },
          "metadata": {},
          "execution_count": 18
        }
      ]
    },
    {
      "cell_type": "code",
      "source": [
        "y_train_dense = np.copy(y_train)\n",
        "y_val_dense = np.copy(y_val)\n",
        "y_test_dense = np.copy(y_test)"
      ],
      "metadata": {
        "id": "ntB6OxL1M8xm"
      },
      "execution_count": 19,
      "outputs": []
    },
    {
      "cell_type": "code",
      "source": [
        "type(y_train_dense)"
      ],
      "metadata": {
        "colab": {
          "base_uri": "https://localhost:8080/"
        },
        "id": "h4ZCHTolTndw",
        "outputId": "2aa8584e-853c-495f-d746-981cc287fbfb"
      },
      "execution_count": 20,
      "outputs": [
        {
          "output_type": "execute_result",
          "data": {
            "text/plain": [
              "numpy.ndarray"
            ]
          },
          "metadata": {},
          "execution_count": 20
        }
      ]
    },
    {
      "cell_type": "code",
      "source": [
        "y_train_dense[0]"
      ],
      "metadata": {
        "colab": {
          "base_uri": "https://localhost:8080/"
        },
        "id": "917EA82jNVUF",
        "outputId": "fb30d20e-e774-4dae-cf0b-102218641a2b"
      },
      "execution_count": 21,
      "outputs": [
        {
          "output_type": "execute_result",
          "data": {
            "text/plain": [
              "0"
            ]
          },
          "metadata": {},
          "execution_count": 21
        }
      ]
    },
    {
      "cell_type": "code",
      "source": [
        "def get_one_hot_labels(dense_labels):\n",
        "\n",
        "  one_hot_labels = []\n",
        "\n",
        "  for label in dense_labels:\n",
        "    if label == 0:\n",
        "      one_hot_labels.append([1,0,0,0])\n",
        "    elif label == 1:\n",
        "      one_hot_labels.append([0,1,0,0])\n",
        "    elif label == 2:\n",
        "      one_hot_labels.append([0,0,1,0])\n",
        "    elif label == 3:\n",
        "      one_hot_labels.append([0,0,0,1])\n",
        "    else:\n",
        "      print(label)\n",
        "      raise Exception\n",
        "\n",
        "  one_hot_labels = np.array(one_hot_labels)\n",
        "\n",
        "  return one_hot_labels"
      ],
      "metadata": {
        "id": "SIMek5ZhMypk"
      },
      "execution_count": 22,
      "outputs": []
    },
    {
      "cell_type": "code",
      "source": [
        "y_train = get_one_hot_labels(y_train)\n",
        "y_val = get_one_hot_labels(y_val)\n",
        "y_test = get_one_hot_labels(y_test)"
      ],
      "metadata": {
        "id": "F0tbEJdoOBRA"
      },
      "execution_count": 23,
      "outputs": []
    },
    {
      "cell_type": "code",
      "source": [
        "y_train.shape"
      ],
      "metadata": {
        "colab": {
          "base_uri": "https://localhost:8080/"
        },
        "id": "PGqXsgFtO4Pz",
        "outputId": "2e359ce5-b000-4778-c15e-53ff0fedeeaf"
      },
      "execution_count": 24,
      "outputs": [
        {
          "output_type": "execute_result",
          "data": {
            "text/plain": [
              "(480, 4)"
            ]
          },
          "metadata": {},
          "execution_count": 24
        }
      ]
    },
    {
      "cell_type": "markdown",
      "source": [
        "## Add in KMeans"
      ],
      "metadata": {
        "id": "LlCD66tyytQH"
      }
    },
    {
      "cell_type": "code",
      "source": [
        "%matplotlib inline\n",
        "import matplotlib.pyplot as plt\n",
        "#import seaborn as sns; sns.set()\n",
        "import numpy as np\n",
        "import pandas\n",
        "\n",
        "from sklearn.datasets import make_blobs\n",
        "from matplotlib.patches import Ellipse\n",
        "\n",
        "\n",
        "from sklearn.cluster import KMeans\n",
        "from sklearn.cluster import KMeans\n",
        "from scipy.spatial.distance import cdist\n",
        "from sklearn.mixture import GaussianMixture as GMM\n",
        "from sklearn.datasets import make_moons\n",
        "from sklearn.cluster import SpectralClustering"
      ],
      "metadata": {
        "id": "4qOmQPLdyqhJ"
      },
      "execution_count": 25,
      "outputs": []
    },
    {
      "cell_type": "code",
      "source": [
        "X_train.shape"
      ],
      "metadata": {
        "colab": {
          "base_uri": "https://localhost:8080/"
        },
        "id": "kCZFqppMyyhO",
        "outputId": "b4a74307-42ee-4b0a-938f-92162fef16b6"
      },
      "execution_count": 26,
      "outputs": [
        {
          "output_type": "execute_result",
          "data": {
            "text/plain": [
              "TensorShape([480, 256, 256, 1])"
            ]
          },
          "metadata": {},
          "execution_count": 26
        }
      ]
    },
    {
      "cell_type": "code",
      "source": [
        "X_flat = np.reshape(X_train, (X_train.shape[0], 65536))"
      ],
      "metadata": {
        "id": "H0ppofGsy0oG"
      },
      "execution_count": 27,
      "outputs": []
    },
    {
      "cell_type": "code",
      "source": [
        "kmeans = KMeans(n_clusters=10,\n",
        "                init='k-means++',\n",
        "                n_init=10,\n",
        "                max_iter=300,\n",
        "                tol=1e-04,\n",
        "                random_state=0)\n",
        "labels = kmeans.fit(X_flat).predict(X_flat)"
      ],
      "metadata": {
        "id": "OX8tOdMWy5qN"
      },
      "execution_count": 28,
      "outputs": []
    },
    {
      "cell_type": "code",
      "source": [
        "X_val.shape"
      ],
      "metadata": {
        "colab": {
          "base_uri": "https://localhost:8080/"
        },
        "id": "XPXcX8R1y2YA",
        "outputId": "4e90b4d8-2dbe-4c95-82e5-667c32473d37"
      },
      "execution_count": 29,
      "outputs": [
        {
          "output_type": "execute_result",
          "data": {
            "text/plain": [
              "TensorShape([160, 256, 256, 1])"
            ]
          },
          "metadata": {},
          "execution_count": 29
        }
      ]
    },
    {
      "cell_type": "code",
      "source": [
        "X_v_flat = np.reshape(X_val, (X_val.shape[0], 65536))"
      ],
      "metadata": {
        "id": "mZgV2d0Jy4DW"
      },
      "execution_count": 30,
      "outputs": []
    },
    {
      "cell_type": "code",
      "source": [
        "labels_val = kmeans.fit(X_v_flat).predict(X_v_flat)"
      ],
      "metadata": {
        "id": "sOqKtD8SzBAx"
      },
      "execution_count": 31,
      "outputs": []
    },
    {
      "cell_type": "code",
      "source": [
        "X_both_flat = tf.concat([X_flat, X_v_flat],axis=0)"
      ],
      "metadata": {
        "id": "lxmET16azFDV"
      },
      "execution_count": 32,
      "outputs": []
    },
    {
      "cell_type": "code",
      "source": [
        "kmeans_both = KMeans(n_clusters=10,\n",
        "                init='k-means++',\n",
        "                n_init=10,\n",
        "                max_iter=300,\n",
        "                tol=1e-04,\n",
        "                random_state=0)\n",
        "labels_both = kmeans_both.fit(X_both_flat).predict(X_both_flat)"
      ],
      "metadata": {
        "id": "ob2lYDizzIdb"
      },
      "execution_count": 33,
      "outputs": []
    },
    {
      "cell_type": "code",
      "source": [
        "X_test.shape"
      ],
      "metadata": {
        "colab": {
          "base_uri": "https://localhost:8080/"
        },
        "id": "q-ce4GrpzKBf",
        "outputId": "4a2e23c2-687f-4139-c68c-d2185adf42a5"
      },
      "execution_count": 34,
      "outputs": [
        {
          "output_type": "execute_result",
          "data": {
            "text/plain": [
              "TensorShape([160, 256, 256, 1])"
            ]
          },
          "metadata": {},
          "execution_count": 34
        }
      ]
    },
    {
      "cell_type": "code",
      "source": [
        "X_test_flat = np.reshape(X_test, (X_test.shape[0], 65536))"
      ],
      "metadata": {
        "id": "zwp_vXGWzMGK"
      },
      "execution_count": 35,
      "outputs": []
    },
    {
      "cell_type": "code",
      "source": [
        "labels_test = kmeans_both.fit(X_test_flat).predict(X_test_flat)"
      ],
      "metadata": {
        "id": "oBRj7ASOzNsV"
      },
      "execution_count": 36,
      "outputs": []
    },
    {
      "cell_type": "code",
      "source": [
        "labels.shape"
      ],
      "metadata": {
        "colab": {
          "base_uri": "https://localhost:8080/"
        },
        "id": "69crBIfZzPfh",
        "outputId": "4f80ff0c-09d4-4a80-8321-676ece4e8688"
      },
      "execution_count": 37,
      "outputs": [
        {
          "output_type": "execute_result",
          "data": {
            "text/plain": [
              "(480,)"
            ]
          },
          "metadata": {},
          "execution_count": 37
        }
      ]
    },
    {
      "cell_type": "markdown",
      "source": [
        "## CNN + KMeans Labels as a Feature"
      ],
      "metadata": {
        "id": "EwPjjCWNzX_W"
      }
    },
    {
      "cell_type": "code",
      "source": [
        "def build_CNN_kmeans_model():\n",
        "  # Clear session and remove randomness.\n",
        "  tf.keras.backend.clear_session()\n",
        "  tf.random.set_seed(0)\n",
        "\n",
        "  images = tf.keras.layers.Input(shape=(256, 256, 1), dtype=tf.float32, name='Images')\n",
        "  kmeans_labels = tf.keras.layers.Input(shape=(1,), dtype=tf.float32, name='KMeans_Labels')\n",
        "\n",
        "  features = tf.keras.layers.Add()(\n",
        "      [images, kmeans_labels])\n",
        "\n",
        "  conv_1 = tf.keras.layers.Conv2D(\n",
        "    filters=32,\n",
        "    kernel_size=(5, 5),\n",
        "    strides=(1, 1),\n",
        "    padding='same',\n",
        "    data_format='channels_last',\n",
        "    name='conv_1',\n",
        "    activation='relu'\n",
        "      )(features)\n",
        "\n",
        "  pool_1 = tf.keras.layers.MaxPool2D(\n",
        "    pool_size=(2, 2),\n",
        "    name='pool_1')(conv_1)\n",
        "\n",
        "  conv_2 = tf.keras.layers.Conv2D(\n",
        "    filters=64,\n",
        "    kernel_size=(5, 5),\n",
        "    strides=(1, 1),\n",
        "    padding='same',\n",
        "    name='conv_2',\n",
        "    activation='relu')(pool_1)\n",
        "\n",
        "  pool_2 = tf.keras.layers.MaxPool2D(\n",
        "    pool_size=(2, 2), name='pool_2')(conv_2)\n",
        "\n",
        "  flat = tf.keras.layers.Flatten()(pool_2)\n",
        "\n",
        "  dense = tf.keras.layers.Dense(\n",
        "    units=1024,\n",
        "    name='dense',\n",
        "    activation='relu')(flat)\n",
        "\n",
        "  drop = tf.keras.layers.Dropout(\n",
        "    rate=0.5)(dense)\n",
        "\n",
        "  preds = tf.keras.layers.Dense(\n",
        "      units=4, activation='softmax', name='Predictions')(drop)\n",
        "\n",
        "  model = tf.keras.Model(inputs=[images, kmeans_labels],\n",
        "                         outputs=preds,\n",
        "                         name='CNN_KMeans')\n",
        "  model.compile(\n",
        "      optimizer=tf.keras.optimizers.Adam(),\n",
        "      loss=\"sparse_categorical_crossentropy\", #set from_ligits=True because our last layer does not apply sigmoid\n",
        "      metrics=['accuracy'])\n",
        "\n",
        "  return model"
      ],
      "metadata": {
        "id": "SxaipycFzZu4"
      },
      "execution_count": 38,
      "outputs": []
    },
    {
      "cell_type": "code",
      "source": [
        "model_kmeans = build_CNN_kmeans_model()\n",
        "\n",
        "history = model_kmeans.fit(\n",
        "  x={\n",
        "      'Images': X_train,\n",
        "      'KMeans_Labels': labels\n",
        "    },\n",
        "  y=y_train_dense,\n",
        "  epochs=15,\n",
        "  validation_data=(\n",
        "      {\n",
        "        'Images': X_val,\n",
        "        'KMeans_Labels': labels_val\n",
        "      },\n",
        "      y_val_dense)\n",
        ")"
      ],
      "metadata": {
        "colab": {
          "base_uri": "https://localhost:8080/"
        },
        "id": "Xv8q_8g5zlSj",
        "outputId": "6016e4bb-2b4d-4f6e-e23b-9dcc50bb68ec"
      },
      "execution_count": 39,
      "outputs": [
        {
          "output_type": "stream",
          "name": "stdout",
          "text": [
            "Epoch 1/15\n",
            "15/15 [==============================] - 169s 11s/step - loss: 28.7995 - accuracy: 0.2667 - val_loss: 1.4289 - val_accuracy: 0.2250\n",
            "Epoch 2/15\n",
            "15/15 [==============================] - 177s 12s/step - loss: 1.3129 - accuracy: 0.3542 - val_loss: 1.4068 - val_accuracy: 0.2250\n",
            "Epoch 3/15\n",
            "15/15 [==============================] - 177s 12s/step - loss: 1.2327 - accuracy: 0.3708 - val_loss: 1.4394 - val_accuracy: 0.2125\n",
            "Epoch 4/15\n",
            "15/15 [==============================] - 176s 12s/step - loss: 1.2415 - accuracy: 0.4313 - val_loss: 1.4476 - val_accuracy: 0.2250\n",
            "Epoch 5/15\n",
            "15/15 [==============================] - 167s 11s/step - loss: 1.1747 - accuracy: 0.4396 - val_loss: 1.6170 - val_accuracy: 0.2250\n",
            "Epoch 6/15\n",
            "15/15 [==============================] - 168s 11s/step - loss: 1.1088 - accuracy: 0.4375 - val_loss: 1.7869 - val_accuracy: 0.2375\n",
            "Epoch 7/15\n",
            "15/15 [==============================] - 167s 11s/step - loss: 1.0904 - accuracy: 0.4250 - val_loss: 1.5643 - val_accuracy: 0.2250\n",
            "Epoch 8/15\n",
            "15/15 [==============================] - 166s 11s/step - loss: 1.0785 - accuracy: 0.4563 - val_loss: 1.7072 - val_accuracy: 0.2875\n",
            "Epoch 9/15\n",
            "15/15 [==============================] - 182s 12s/step - loss: 1.0940 - accuracy: 0.4688 - val_loss: 1.6856 - val_accuracy: 0.2188\n",
            "Epoch 10/15\n",
            "15/15 [==============================] - 183s 12s/step - loss: 1.0659 - accuracy: 0.4542 - val_loss: 1.7150 - val_accuracy: 0.2937\n",
            "Epoch 11/15\n",
            "15/15 [==============================] - 186s 12s/step - loss: 1.0825 - accuracy: 0.4417 - val_loss: 1.7688 - val_accuracy: 0.2188\n",
            "Epoch 12/15\n",
            "15/15 [==============================] - 168s 11s/step - loss: 1.0817 - accuracy: 0.4313 - val_loss: 1.6459 - val_accuracy: 0.2313\n",
            "Epoch 13/15\n",
            "15/15 [==============================] - 177s 12s/step - loss: 1.0635 - accuracy: 0.4625 - val_loss: 1.9816 - val_accuracy: 0.2562\n",
            "Epoch 14/15\n",
            "15/15 [==============================] - 167s 11s/step - loss: 1.0724 - accuracy: 0.4542 - val_loss: 1.8460 - val_accuracy: 0.2562\n",
            "Epoch 15/15\n",
            "15/15 [==============================] - 166s 11s/step - loss: 1.0723 - accuracy: 0.4542 - val_loss: 1.6250 - val_accuracy: 0.2937\n"
          ]
        }
      ]
    },
    {
      "cell_type": "code",
      "source": [
        "hist = history.history\n",
        "x_arr = np.arange(len(hist['loss'])) + 1\n",
        "\n",
        "fig = plt.figure(figsize=(12, 4))\n",
        "ax = fig.add_subplot(1, 2, 1)\n",
        "ax.plot(x_arr, hist['loss'], '-o', label='Train loss')\n",
        "ax.plot(x_arr, hist['val_loss'], '--<', label='Validation loss')\n",
        "ax.legend(fontsize=15)\n",
        "ax.set_xlabel('Epoch', size=15)\n",
        "ax.set_ylabel('Loss', size=15)\n",
        "\n",
        "ax = fig.add_subplot(1, 2, 2)\n",
        "ax.plot(x_arr, hist['accuracy'], '-o', label='Train acc.')\n",
        "ax.plot(x_arr, hist['val_accuracy'], '--<', label='Validation acc.')\n",
        "ax.legend(fontsize=15)\n",
        "ax.set_xlabel('Epoch', size=15)\n",
        "ax.set_ylabel('Accuracy', size=15)\n",
        "plt.show()"
      ],
      "metadata": {
        "colab": {
          "base_uri": "https://localhost:8080/",
          "height": 397
        },
        "id": "tUhntIlXz_KA",
        "outputId": "fc9cb679-fcaf-44e9-dbde-974f796f19f3"
      },
      "execution_count": 40,
      "outputs": [
        {
          "output_type": "display_data",
          "data": {
            "text/plain": [
              "<Figure size 1200x400 with 2 Axes>"
            ],
            "image/png": "[encoded data removed]"
          },
          "metadata": {}
        }
      ]
    },
    {
      "cell_type": "code",
      "source": [
        "test_results = model_kmeans.evaluate(x={\n",
        "    'Images': X_test,\n",
        "    'KMeans_Labels': labels_test\n",
        "    }, y=y_test_dense)\n",
        "print('\\nTest Acc. {:.2f}%'.format(test_results[1]*100))"
      ],
      "metadata": {
        "colab": {
          "base_uri": "https://localhost:8080/"
        },
        "id": "eqj4rG000BUx",
        "outputId": "aa4a0145-fbbd-4c2b-d91c-d049af65aace"
      },
      "execution_count": 41,
      "outputs": [
        {
          "output_type": "stream",
          "name": "stdout",
          "text": [
            "5/5 [==============================] - 12s 2s/step - loss: 1.4079 - accuracy: 0.3063\n",
            "\n",
            "Test Acc. 30.63%\n"
          ]
        }
      ]
    }
  ],
  "metadata": {
    "colab": {
      "provenance": []
    },
    "kernelspec": {
      "display_name": "Python 3 (ipykernel)",
      "language": "python",
      "name": "python3"
    },
    "language_info": {
      "codemirror_mode": {
        "name": "ipython",
        "version": 3
      },
      "file_extension": ".py",
      "mimetype": "text/x-python",
      "name": "python",
      "nbconvert_exporter": "python",
      "pygments_lexer": "ipython3",
      "version": "3.10.12"
    }
  },
  "nbformat": 4,
  "nbformat_minor": 0
}