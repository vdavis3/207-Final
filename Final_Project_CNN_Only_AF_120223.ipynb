{
  "cells": [
    {
      "cell_type": "markdown",
      "metadata": {
        "id": "MKsRDH5ZUdfasdv"
      },
      "source": [
        "# Final Project\n",
        "\n",
        "### <span style=\"color:gray\"> Violet Davis and Annie Friar </span>"
      ]
    },
    {
      "cell_type": "markdown",
      "metadata": {
        "id": "I2MaDcrDeEVM"
      },
      "source": [
        "###\n",
        "`Data Exploration`"
      ]
    },
    {
      "cell_type": "markdown",
      "metadata": {
        "id": "UV6z1boBeEVM"
      },
      "source": [
        "---"
      ]
    },
    {
      "cell_type": "code",
      "execution_count": 1,
      "metadata": {
        "id": "7X58hOMTUH-w",
        "outputId": "c5409d5d-0855-4da2-af6f-9d19a0fa7c29",
        "colab": {
          "base_uri": "https://localhost:8080/"
        }
      },
      "outputs": [
        {
          "output_type": "stream",
          "name": "stdout",
          "text": [
            "Drive already mounted at /content/drive; to attempt to forcibly remount, call drive.mount(\"/content/drive\", force_remount=True).\n"
          ]
        }
      ],
      "source": [
        "# Import libraries\n",
        "\n",
        "# standard\n",
        "import pandas as pd\n",
        "import numpy as np\n",
        "import random\n",
        "import os\n",
        "\n",
        "# tf and keras\n",
        "import tensorflow as tf\n",
        "from tensorflow.keras.preprocessing.image import ImageDataGenerator, array_to_img, img_to_array, load_img\n",
        "from keras import models\n",
        "from keras import layers\n",
        "\n",
        "# plots and images\n",
        "import seaborn as sns\n",
        "import matplotlib.pyplot as plt\n",
        "from IPython.display import Image\n",
        "\n",
        "#silence TF\n",
        "os.environ['TF_CPP_MIN_LOG_LEVEL'] = '3'\n",
        "\n",
        "random.seed(2)\n",
        "%matplotlib inline\n",
        "\n",
        "# FILL IN CODE HERE #\n",
        "NORMAL_IMAGE_PATH = 'drive/MyDrive/207_final_project/Final_Project_Data/normal/' # Class as 1\n",
        "GLIOMA_IMAGE_PATH = 'drive/MyDrive/207_final_project/Final_Project_Data/glioma_tumor/' # Class as 2\n",
        "MENINGIOMA_IMAGE_PATH = 'drive/MyDrive/207_final_project/Final_Project_Data/meningioma_tumor/' # Class as 3\n",
        "PITUITARY_IMAGE_PATH = 'drive/MyDrive/207_final_project/Final_Project_Data/pituitary_tumor/' # Class as 4\n",
        "\n",
        "#import drive\n",
        "from google.colab import drive\n",
        "drive.mount('/content/drive')"
      ]
    },
    {
      "cell_type": "markdown",
      "metadata": {
        "id": "zL5O-SOu7kYN"
      },
      "source": [
        "## Dataset\n"
      ]
    },
    {
      "cell_type": "code",
      "source": [
        "# read image\n",
        "indx=0\n",
        "images = []\n",
        "labels = []\n",
        "\n",
        "labels_index = 0\n",
        "\n",
        "print('Sample of normal images in data:')\n",
        "for idx, img in enumerate(os.listdir(NORMAL_IMAGE_PATH)):\n",
        "    img = load_img(\n",
        "    NORMAL_IMAGE_PATH + img)\n",
        "    images.append(img)\n",
        "    labels.append((idx, 0))\n",
        "    labels_index = idx\n",
        "\n",
        "normal_index = labels_index + 1\n",
        "\n",
        "for idx, img in enumerate(os.listdir(GLIOMA_IMAGE_PATH)):\n",
        "    img = load_img(\n",
        "    GLIOMA_IMAGE_PATH + img)\n",
        "    images.append(img)\n",
        "    labels.append((idx+normal_index, 1))\n",
        "    labels_index = idx\n",
        "\n",
        "glioma_index = normal_index + labels_index + 1\n",
        "\n",
        "for idx, img in enumerate(os.listdir(MENINGIOMA_IMAGE_PATH)):\n",
        "    img = load_img(\n",
        "    MENINGIOMA_IMAGE_PATH + img)\n",
        "    images.append(img)\n",
        "    labels.append((idx+glioma_index, 2))\n",
        "    labels_index = idx\n",
        "\n",
        "meningioma_index = glioma_index + labels_index + 1\n",
        "\n",
        "for idx, img in enumerate(os.listdir(PITUITARY_IMAGE_PATH)):\n",
        "    img = load_img(\n",
        "    PITUITARY_IMAGE_PATH + img)\n",
        "    images.append(img)\n",
        "    labels.append((idx+meningioma_index, 3))"
      ],
      "metadata": {
        "id": "iySIMhnpIM0f",
        "colab": {
          "base_uri": "https://localhost:8080/"
        },
        "outputId": "d657e14a-a629-45d2-d7de-d27d0a93f50a"
      },
      "execution_count": 2,
      "outputs": [
        {
          "output_type": "stream",
          "name": "stdout",
          "text": [
            "Sample of normal images in data:\n"
          ]
        }
      ]
    },
    {
      "cell_type": "code",
      "execution_count": 3,
      "metadata": {
        "id": "xPhXkno_eEVQ"
      },
      "outputs": [],
      "source": [
        "labels = np.array(labels)"
      ]
    },
    {
      "cell_type": "code",
      "source": [
        "labels_df = pd.DataFrame(labels,\n",
        "                   columns=['img_num', 'Label'])"
      ],
      "metadata": {
        "id": "L0laa6xAMGAb"
      },
      "execution_count": 4,
      "outputs": []
    },
    {
      "cell_type": "code",
      "source": [
        "labels_df['Label'].value_counts()"
      ],
      "metadata": {
        "colab": {
          "base_uri": "https://localhost:8080/"
        },
        "id": "thDDMcpaMGvR",
        "outputId": "b6033730-684d-4513-9a48-9da2f59200f1"
      },
      "execution_count": 5,
      "outputs": [
        {
          "output_type": "execute_result",
          "data": {
            "text/plain": [
              "2    923\n",
              "1    901\n",
              "3    844\n",
              "0    438\n",
              "Name: Label, dtype: int64"
            ]
          },
          "metadata": {},
          "execution_count": 5
        }
      ]
    },
    {
      "cell_type": "code",
      "source": [
        "# histogram\n",
        "sns.histplot(\n",
        "    data=labels_df,\n",
        "    stat=\"count\",\n",
        "    x = \"Label\"\n",
        ");"
      ],
      "metadata": {
        "colab": {
          "base_uri": "https://localhost:8080/",
          "height": 449
        },
        "id": "Vg88s5VXMI-S",
        "outputId": "44f5f6d1-eeef-45a9-d13f-f48d81c5c3e7"
      },
      "execution_count": 6,
      "outputs": [
        {
          "output_type": "display_data",
          "data": {
            "text/plain": [
              "<Figure size 640x480 with 1 Axes>"
            ],
            "image/png": "[encoded data removed]"
          },
          "metadata": {}
        }
      ]
    },
    {
      "cell_type": "markdown",
      "metadata": {
        "id": "151k1-M6eEVQ"
      },
      "source": [
        "## Split Images Datasets"
      ]
    },
    {
      "cell_type": "markdown",
      "metadata": {
        "id": "wdnH_gHXeEVQ"
      },
      "source": [
        "`Correct for data imbalance`"
      ]
    },
    {
      "cell_type": "code",
      "execution_count": 7,
      "metadata": {
        "id": "OF4Ge--6eEVR"
      },
      "outputs": [],
      "source": [
        "np.random.seed(1234)\n",
        "\n",
        "n_size = 200\n",
        "\n",
        "normal = labels_df[labels_df['Label'] == 0]\n",
        "glioma = labels_df[labels_df['Label'] == 1]\n",
        "meningioma = labels_df[labels_df['Label'] == 2]\n",
        "pituitary = labels_df[labels_df['Label'] == 3]\n",
        "\n",
        "# randomly draw 400 images from each classes\n",
        "temp_normal = list(np.random.choice(\n",
        "    normal.img_num,\n",
        "    size=n_size,\n",
        "    replace=False\n",
        "))\n",
        "\n",
        "temp_glioma = list(np.random.choice(\n",
        "    glioma.img_num,\n",
        "    size=n_size,\n",
        "    replace=False\n",
        "))\n",
        "\n",
        "temp_meningioma = list(np.random.choice(\n",
        "    meningioma.img_num,\n",
        "    size=n_size,\n",
        "    replace=False\n",
        "))\n",
        "\n",
        "\n",
        "temp_pituitary = list(np.random.choice(\n",
        "    pituitary.img_num,\n",
        "    size=n_size,\n",
        "    replace=False\n",
        "))"
      ]
    },
    {
      "cell_type": "code",
      "execution_count": 8,
      "metadata": {
        "id": "AMwRVcc3eEVR"
      },
      "outputs": [],
      "source": [
        "image_list = []\n",
        "labels_list = []\n",
        "\n",
        "for num in temp_normal:\n",
        "    image_list.append(images[num])\n",
        "    labels_list.append(labels[num])\n",
        "\n",
        "for num in temp_glioma:\n",
        "    image_list.append(images[num])\n",
        "    labels_list.append(labels[num])\n",
        "\n",
        "for num in temp_meningioma:\n",
        "    image_list.append(images[num])\n",
        "    labels_list.append(labels[num])\n",
        "\n",
        "for num in temp_pituitary:\n",
        "    image_list.append(images[num])\n",
        "    labels_list.append(labels[num])"
      ]
    },
    {
      "cell_type": "code",
      "execution_count": 9,
      "metadata": {
        "id": "oESkdEJZeEVR",
        "outputId": "6c6195a5-995d-4868-dd44-f48a39f6e49d",
        "colab": {
          "base_uri": "https://localhost:8080/"
        }
      },
      "outputs": [
        {
          "output_type": "stream",
          "name": "stdout",
          "text": [
            "Length of Image List:  800\n",
            "Length of Labels List:  800\n"
          ]
        }
      ],
      "source": [
        "print(\"Length of Image List: \", len(image_list))\n",
        "print(\"Length of Labels List: \", len(labels_list))"
      ]
    },
    {
      "cell_type": "code",
      "execution_count": 10,
      "metadata": {
        "id": "SoZn0IOBeEVR"
      },
      "outputs": [],
      "source": [
        "images_mini = []\n",
        "y_mini = []\n",
        "\n",
        "for img in image_list:\n",
        "\n",
        "# transform image to array\n",
        "    img = img_to_array(img)\n",
        "\n",
        "    # append to images\n",
        "    images_mini.append(img)\n",
        "\n",
        "images_mini = np.stack(images_mini)\n",
        "\n",
        "for label in labels_list:\n",
        "    y_mini.append(label[1])\n",
        "\n",
        "y_mini = np.array(y_mini)"
      ]
    },
    {
      "cell_type": "code",
      "execution_count": 11,
      "metadata": {
        "id": "o60OIqG5eEVR",
        "outputId": "c64f2d48-ec07-4509-d768-88e0d34766a9",
        "colab": {
          "base_uri": "https://localhost:8080/"
        }
      },
      "outputs": [
        {
          "output_type": "execute_result",
          "data": {
            "text/plain": [
              "(800, 256, 256, 3)"
            ]
          },
          "metadata": {},
          "execution_count": 11
        }
      ],
      "source": [
        "images_mini.shape"
      ]
    },
    {
      "cell_type": "code",
      "source": [
        "y_mini.shape"
      ],
      "metadata": {
        "colab": {
          "base_uri": "https://localhost:8080/"
        },
        "id": "u8CHDLmRJiD1",
        "outputId": "782f6821-949a-41b4-f7b1-9140b7d39e95"
      },
      "execution_count": 12,
      "outputs": [
        {
          "output_type": "execute_result",
          "data": {
            "text/plain": [
              "(800,)"
            ]
          },
          "metadata": {},
          "execution_count": 12
        }
      ]
    },
    {
      "cell_type": "code",
      "execution_count": 13,
      "metadata": {
        "id": "KV6kbwcueEVR"
      },
      "outputs": [],
      "source": [
        "def preprocess_data_part2(images, y, split=(0.6,0.2,0.2)):\n",
        "    \"\"\" Split data into train, validation and test sets; apply transformaions and augmentations\n",
        "\n",
        "    Params:\n",
        "    -------\n",
        "    images  (np.ndarray): Images of shape (N, 224, 224, 3)\n",
        "    y (np.ndarray): Labels of shape (N,)\n",
        "    split (tuple): 3 values summing to 1 defining split of train, validation and test sets\n",
        "\n",
        "    Returns:\n",
        "    --------\n",
        "    X_train (np.ndarray): Train images of shape (N_train, 224, 224, 3)\n",
        "    y_train (np.ndarray): Train labels of shape (N_train,)\n",
        "    X_val (np.ndarray): Val images of shape (N_val, 224, 224, 3)\n",
        "    y_val (np.ndarray): Val labels of shape (N_val,)\n",
        "    X_test (np.ndarray): Test images of shape (N_test, 224, 224, 3)\n",
        "    y_test (np.ndarray): Test labels of shape (N_test,)\n",
        "\n",
        "    \"\"\"\n",
        "\n",
        "    ### create train/validation/test sets ###\n",
        "    #########################################\n",
        "    # NOTE: Each time you run this cell, you'll re-shuffle the data. The ordering will be the same due to the random seed generator\n",
        "    tf.random.set_seed(1234)\n",
        "    np.random.seed(1234)\n",
        "\n",
        "    shuffle = np.random.permutation(np.arange(len(images)))\n",
        "    images, y = images[shuffle], y[shuffle]\n",
        "\n",
        "    splits = np.multiply(len(images_mini), split).astype(int)\n",
        "    X_train, X_val, X_test = np.split(images, [splits[0], splits[0]+splits[1]])\n",
        "    y_train, y_val, y_test = np.split(y, [splits[0], splits[0]+splits[1]])\n",
        "\n",
        "    # rescale image to [0,1], i.e., greyscale\n",
        "    X_train = tf.image.rgb_to_grayscale(X_train)/255.0\n",
        "    X_val = tf.image.rgb_to_grayscale(X_val)/255.0\n",
        "    X_test = tf.image.rgb_to_grayscale(X_test)/255.0\n",
        "\n",
        "    return X_train, y_train, X_val, y_val, X_test, y_test"
      ]
    },
    {
      "cell_type": "code",
      "execution_count": 14,
      "metadata": {
        "id": "JalLYyQTeEVR",
        "outputId": "fe7e8627-ac43-4f9f-a796-f73e388ee510",
        "colab": {
          "base_uri": "https://localhost:8080/"
        }
      },
      "outputs": [
        {
          "output_type": "stream",
          "name": "stdout",
          "text": [
            "X_train shape (480, 256, 256, 1)\n",
            "y_train shape (480,)\n",
            "X_val shape (160, 256, 256, 1)\n",
            "y_val shape (160,)\n",
            "X_test shape (160, 256, 256, 1)\n",
            "y_test shape (160,)\n"
          ]
        }
      ],
      "source": [
        "X_train, y_train, X_val, y_val, X_test, y_test = preprocess_data_part2(\n",
        "    images_mini,\n",
        "    y_mini,\n",
        "    split=(0.6,0.2,0.2)\n",
        ")\n",
        "\n",
        "print(f\"X_train shape {X_train.shape}\")\n",
        "print(f\"y_train shape {y_train.shape}\")\n",
        "print(f\"X_val shape {X_val.shape}\")\n",
        "print(f\"y_val shape {y_val.shape}\")\n",
        "print(f\"X_test shape {X_test.shape}\")\n",
        "print(f\"y_test shape {y_test.shape}\")"
      ]
    },
    {
      "cell_type": "code",
      "execution_count": 15,
      "metadata": {
        "id": "FA_tUBj0eEVR"
      },
      "outputs": [],
      "source": [
        "validate_split = pd.DataFrame(y_train)"
      ]
    },
    {
      "cell_type": "code",
      "execution_count": 16,
      "metadata": {
        "id": "dKqdgZ08eEVR",
        "outputId": "08a50714-4504-4f16-91af-a6f7e7a85f72",
        "colab": {
          "base_uri": "https://localhost:8080/"
        }
      },
      "outputs": [
        {
          "output_type": "execute_result",
          "data": {
            "text/plain": [
              "0    125\n",
              "1    123\n",
              "2    116\n",
              "3    116\n",
              "dtype: int64"
            ]
          },
          "metadata": {},
          "execution_count": 16
        }
      ],
      "source": [
        "validate_split.value_counts()"
      ]
    },
    {
      "cell_type": "code",
      "source": [
        "y_train.shape"
      ],
      "metadata": {
        "colab": {
          "base_uri": "https://localhost:8080/"
        },
        "id": "B794W73bNGiT",
        "outputId": "71079457-ce91-4550-e1a6-0a9f6955ae5b"
      },
      "execution_count": 17,
      "outputs": [
        {
          "output_type": "execute_result",
          "data": {
            "text/plain": [
              "(480,)"
            ]
          },
          "metadata": {},
          "execution_count": 17
        }
      ]
    },
    {
      "cell_type": "code",
      "source": [
        "type(y_train)"
      ],
      "metadata": {
        "colab": {
          "base_uri": "https://localhost:8080/"
        },
        "id": "fuvQFPFZT0XB",
        "outputId": "97d68b36-01aa-4ad0-ac7c-2ffe90c68c1b"
      },
      "execution_count": 18,
      "outputs": [
        {
          "output_type": "execute_result",
          "data": {
            "text/plain": [
              "numpy.ndarray"
            ]
          },
          "metadata": {},
          "execution_count": 18
        }
      ]
    },
    {
      "cell_type": "code",
      "source": [
        "y_train_dense = np.copy(y_train)\n",
        "y_val_dense = np.copy(y_val)\n",
        "y_test_dense = np.copy(y_test)"
      ],
      "metadata": {
        "id": "ntB6OxL1M8xm"
      },
      "execution_count": 19,
      "outputs": []
    },
    {
      "cell_type": "code",
      "source": [
        "type(y_train_dense)"
      ],
      "metadata": {
        "colab": {
          "base_uri": "https://localhost:8080/"
        },
        "id": "h4ZCHTolTndw",
        "outputId": "1b81449b-7bc6-4dab-fa56-637762d0cb90"
      },
      "execution_count": 20,
      "outputs": [
        {
          "output_type": "execute_result",
          "data": {
            "text/plain": [
              "numpy.ndarray"
            ]
          },
          "metadata": {},
          "execution_count": 20
        }
      ]
    },
    {
      "cell_type": "code",
      "source": [
        "y_train_dense[0]"
      ],
      "metadata": {
        "colab": {
          "base_uri": "https://localhost:8080/"
        },
        "id": "917EA82jNVUF",
        "outputId": "6a35277a-1c8a-4ea1-f963-35f5365b797a"
      },
      "execution_count": 21,
      "outputs": [
        {
          "output_type": "execute_result",
          "data": {
            "text/plain": [
              "0"
            ]
          },
          "metadata": {},
          "execution_count": 21
        }
      ]
    },
    {
      "cell_type": "code",
      "source": [
        "def get_one_hot_labels(dense_labels):\n",
        "\n",
        "  one_hot_labels = []\n",
        "\n",
        "  for label in dense_labels:\n",
        "    if label == 0:\n",
        "      one_hot_labels.append([1,0,0,0])\n",
        "    elif label == 1:\n",
        "      one_hot_labels.append([0,1,0,0])\n",
        "    elif label == 2:\n",
        "      one_hot_labels.append([0,0,1,0])\n",
        "    elif label == 3:\n",
        "      one_hot_labels.append([0,0,0,1])\n",
        "    else:\n",
        "      print(label)\n",
        "      raise Exception\n",
        "\n",
        "  one_hot_labels = np.array(one_hot_labels)\n",
        "\n",
        "  return one_hot_labels"
      ],
      "metadata": {
        "id": "SIMek5ZhMypk"
      },
      "execution_count": 22,
      "outputs": []
    },
    {
      "cell_type": "code",
      "source": [
        "y_train = get_one_hot_labels(y_train)\n",
        "y_val = get_one_hot_labels(y_val)\n",
        "y_test = get_one_hot_labels(y_test)"
      ],
      "metadata": {
        "id": "F0tbEJdoOBRA"
      },
      "execution_count": 23,
      "outputs": []
    },
    {
      "cell_type": "code",
      "source": [
        "y_train.shape"
      ],
      "metadata": {
        "colab": {
          "base_uri": "https://localhost:8080/"
        },
        "id": "PGqXsgFtO4Pz",
        "outputId": "59476487-d639-4fa4-ecd7-e309468e456f"
      },
      "execution_count": 24,
      "outputs": [
        {
          "output_type": "execute_result",
          "data": {
            "text/plain": [
              "(480, 4)"
            ]
          },
          "metadata": {},
          "execution_count": 24
        }
      ]
    },
    {
      "cell_type": "markdown",
      "source": [
        "## Build CNN"
      ],
      "metadata": {
        "id": "RRRw7pGRBo2-"
      }
    },
    {
      "cell_type": "code",
      "source": [
        "def build_CNN_model():\n",
        "  # Clear session and remove randomness.\n",
        "  tf.keras.backend.clear_session()\n",
        "  tf.random.set_seed(0)\n",
        "\n",
        "  images = tf.keras.layers.Input(shape=(256, 256, 1), dtype=tf.float32, name='Images')\n",
        "\n",
        "  features = tf.keras.layers.Add()(\n",
        "      [images])\n",
        "\n",
        "  conv_1 = tf.keras.layers.Conv2D(\n",
        "    filters=32,\n",
        "    kernel_size=(5, 5),\n",
        "    strides=(1, 1),\n",
        "    padding='same',\n",
        "    data_format='channels_last',\n",
        "    name='conv_1',\n",
        "    activation='relu'\n",
        "      )(features)\n",
        "\n",
        "  pool_1 = tf.keras.layers.MaxPool2D(\n",
        "    pool_size=(2, 2),\n",
        "    name='pool_1')(conv_1)\n",
        "\n",
        "  conv_2 = tf.keras.layers.Conv2D(\n",
        "    filters=64,\n",
        "    kernel_size=(5, 5),\n",
        "    strides=(1, 1),\n",
        "    padding='same',\n",
        "    name='conv_2',\n",
        "    activation='relu')(pool_1)\n",
        "\n",
        "  pool_2 = tf.keras.layers.MaxPool2D(\n",
        "    pool_size=(2, 2), name='pool_2')(conv_2)\n",
        "\n",
        "  flat = tf.keras.layers.Flatten()(pool_2)\n",
        "\n",
        "  dense = tf.keras.layers.Dense(\n",
        "    units=1024,\n",
        "    name='dense',\n",
        "    activation='relu')(flat)\n",
        "\n",
        "  drop = tf.keras.layers.Dropout(\n",
        "    rate=0.5)(dense)\n",
        "\n",
        "  preds = tf.keras.layers.Dense(\n",
        "      units=4, activation='softmax', name='Predictions')(drop)\n",
        "\n",
        "  model = tf.keras.Model(inputs=[images],\n",
        "                         outputs=preds,\n",
        "                         name='CNN')\n",
        "  model.compile(\n",
        "      optimizer=tf.keras.optimizers.Adam(),\n",
        "      loss=\"sparse_categorical_crossentropy\",\n",
        "      metrics=['accuracy'])\n",
        "\n",
        "  return model"
      ],
      "metadata": {
        "id": "8NhmoobGvzZj"
      },
      "execution_count": 25,
      "outputs": []
    },
    {
      "cell_type": "code",
      "source": [
        "model_cnn = build_CNN_model()\n",
        "\n",
        "history = model_cnn.fit(\n",
        "  x={\n",
        "      'Images': X_train\n",
        "    },\n",
        "  y=y_train_dense,\n",
        "  epochs=15,\n",
        "  validation_data=(\n",
        "      {\n",
        "        'Images': X_val\n",
        "      },\n",
        "      y_val_dense)\n",
        ")"
      ],
      "metadata": {
        "colab": {
          "base_uri": "https://localhost:8080/"
        },
        "id": "ID2DZsc_v1bl",
        "outputId": "e48915d0-d56b-4be2-c17d-399d9d261a24"
      },
      "execution_count": 26,
      "outputs": [
        {
          "output_type": "stream",
          "name": "stdout",
          "text": [
            "Epoch 1/15\n",
            "15/15 [==============================] - 208s 13s/step - loss: 2.8357 - accuracy: 0.2854 - val_loss: 1.3865 - val_accuracy: 0.2250\n",
            "Epoch 2/15\n",
            "15/15 [==============================] - 185s 12s/step - loss: 1.3846 - accuracy: 0.2729 - val_loss: 1.3775 - val_accuracy: 0.3500\n",
            "Epoch 3/15\n",
            "15/15 [==============================] - 200s 13s/step - loss: 1.3124 - accuracy: 0.4604 - val_loss: 1.2073 - val_accuracy: 0.4250\n",
            "Epoch 4/15\n",
            "15/15 [==============================] - 185s 12s/step - loss: 1.0479 - accuracy: 0.5604 - val_loss: 1.0624 - val_accuracy: 0.5125\n",
            "Epoch 5/15\n",
            "15/15 [==============================] - 195s 13s/step - loss: 0.7111 - accuracy: 0.7271 - val_loss: 1.0227 - val_accuracy: 0.5875\n",
            "Epoch 6/15\n",
            "15/15 [==============================] - 195s 13s/step - loss: 0.4854 - accuracy: 0.8313 - val_loss: 1.0874 - val_accuracy: 0.6375\n",
            "Epoch 7/15\n",
            "15/15 [==============================] - 193s 13s/step - loss: 0.2632 - accuracy: 0.9187 - val_loss: 1.5482 - val_accuracy: 0.5875\n",
            "Epoch 8/15\n",
            "15/15 [==============================] - 195s 13s/step - loss: 0.1516 - accuracy: 0.9563 - val_loss: 1.6250 - val_accuracy: 0.6062\n",
            "Epoch 9/15\n",
            "15/15 [==============================] - 185s 12s/step - loss: 0.1177 - accuracy: 0.9708 - val_loss: 1.3742 - val_accuracy: 0.5875\n",
            "Epoch 10/15\n",
            "15/15 [==============================] - 196s 13s/step - loss: 0.0763 - accuracy: 0.9792 - val_loss: 1.6775 - val_accuracy: 0.5875\n",
            "Epoch 11/15\n",
            "15/15 [==============================] - 184s 12s/step - loss: 0.1041 - accuracy: 0.9854 - val_loss: 1.5050 - val_accuracy: 0.5938\n",
            "Epoch 12/15\n",
            "15/15 [==============================] - 187s 12s/step - loss: 0.0474 - accuracy: 0.9917 - val_loss: 1.7261 - val_accuracy: 0.6313\n",
            "Epoch 13/15\n",
            "15/15 [==============================] - 196s 13s/step - loss: 0.0390 - accuracy: 0.9854 - val_loss: 1.4250 - val_accuracy: 0.6187\n",
            "Epoch 14/15\n",
            "15/15 [==============================] - 186s 12s/step - loss: 0.0318 - accuracy: 0.9958 - val_loss: 1.7087 - val_accuracy: 0.6562\n",
            "Epoch 15/15\n",
            "15/15 [==============================] - 186s 12s/step - loss: 0.0447 - accuracy: 0.9937 - val_loss: 1.5891 - val_accuracy: 0.6375\n"
          ]
        }
      ]
    },
    {
      "cell_type": "code",
      "source": [
        "hist = history.history\n",
        "x_arr = np.arange(len(hist['loss'])) + 1\n",
        "\n",
        "fig = plt.figure(figsize=(12, 4))\n",
        "ax = fig.add_subplot(1, 2, 1)\n",
        "ax.plot(x_arr, hist['loss'], '-o', label='Train loss')\n",
        "ax.plot(x_arr, hist['val_loss'], '--<', label='Validation loss')\n",
        "ax.legend(fontsize=15)\n",
        "ax.set_xlabel('Epoch', size=15)\n",
        "ax.set_ylabel('Loss', size=15)\n",
        "\n",
        "ax = fig.add_subplot(1, 2, 2)\n",
        "ax.plot(x_arr, hist['accuracy'], '-o', label='Train acc.')\n",
        "ax.plot(x_arr, hist['val_accuracy'], '--<', label='Validation acc.')\n",
        "ax.legend(fontsize=15)\n",
        "ax.set_xlabel('Epoch', size=15)\n",
        "ax.set_ylabel('Accuracy', size=15)\n",
        "plt.show()"
      ],
      "metadata": {
        "colab": {
          "base_uri": "https://localhost:8080/",
          "height": 394
        },
        "id": "ClJ0sxcazskj",
        "outputId": "e8215d65-f96b-4a01-9cc8-65fea8b9ee0b"
      },
      "execution_count": 27,
      "outputs": [
        {
          "output_type": "display_data",
          "data": {
            "text/plain": [
              "<Figure size 1200x400 with 2 Axes>"
            ],
            "image/png": "[encoded data removed]"
          },
          "metadata": {}
        }
      ]
    },
    {
      "cell_type": "code",
      "source": [
        "test_results = model_cnn.evaluate(x={\n",
        "    'Images': X_test\n",
        "    }, y=y_test_dense)\n",
        "print('\\nTest Acc. {:.2f}%'.format(test_results[1]*100))"
      ],
      "metadata": {
        "colab": {
          "base_uri": "https://localhost:8080/"
        },
        "id": "AP-wgLFz0ELz",
        "outputId": "4448de02-7a22-491f-c8cf-3561d4483347"
      },
      "execution_count": 28,
      "outputs": [
        {
          "output_type": "stream",
          "name": "stdout",
          "text": [
            "5/5 [==============================] - 10s 2s/step - loss: 1.4082 - accuracy: 0.7063\n",
            "\n",
            "Test Acc. 70.63%\n"
          ]
        }
      ]
    }
  ],
  "metadata": {
    "colab": {
      "provenance": []
    },
    "kernelspec": {
      "display_name": "Python 3 (ipykernel)",
      "language": "python",
      "name": "python3"
    },
    "language_info": {
      "codemirror_mode": {
        "name": "ipython",
        "version": 3
      },
      "file_extension": ".py",
      "mimetype": "text/x-python",
      "name": "python",
      "nbconvert_exporter": "python",
      "pygments_lexer": "ipython3",
      "version": "3.10.12"
    }
  },
  "nbformat": 4,
  "nbformat_minor": 0
}